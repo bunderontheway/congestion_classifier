{
 "cells": [
  {
   "cell_type": "markdown",
   "metadata": {},
   "source": [
    "# Import Library"
   ]
  },
  {
   "cell_type": "code",
   "execution_count": 1,
   "metadata": {},
   "outputs": [],
   "source": [
    "import pandas as pd\n",
    "import numpy as np\n",
    "import matplotlib.pyplot as plt\n",
    "from sklearn.metrics import confusion_matrix, classification_report\n",
    "from sklearn.model_selection import train_test_split\n",
    "from sklearn.tree import DecisionTreeClassifier\n",
    "from sklearn.metrics import accuracy_score\n",
    "from sklearn.metrics import precision_score\n",
    "from sklearn.metrics import recall_score\n",
    "from sklearn.metrics import f1_score\n",
    "from sklearn import tree\n",
    "import graphviz"
   ]
  },
  {
   "cell_type": "markdown",
   "metadata": {},
   "source": [
    "# Import Dataset Using Pandas"
   ]
  },
  {
   "cell_type": "code",
   "execution_count": 4,
   "metadata": {},
   "outputs": [],
   "source": [
    "data = pd.read_csv('dataset.csv')"
   ]
  },
  {
   "cell_type": "code",
   "execution_count": 9,
   "metadata": {},
   "outputs": [
    {
     "data": {
      "text/html": [
       "<div>\n",
       "<style scoped>\n",
       "    .dataframe tbody tr th:only-of-type {\n",
       "        vertical-align: middle;\n",
       "    }\n",
       "\n",
       "    .dataframe tbody tr th {\n",
       "        vertical-align: top;\n",
       "    }\n",
       "\n",
       "    .dataframe thead th {\n",
       "        text-align: right;\n",
       "    }\n",
       "</style>\n",
       "<table border=\"1\" class=\"dataframe\">\n",
       "  <thead>\n",
       "    <tr style=\"text-align: right;\">\n",
       "      <th></th>\n",
       "      <th>Traffik</th>\n",
       "      <th>Bandwith</th>\n",
       "      <th>Throughput</th>\n",
       "      <th>Link Utilization</th>\n",
       "      <th>Delay</th>\n",
       "      <th>Jitter</th>\n",
       "      <th>Packet Loss</th>\n",
       "      <th>Kongesti Label</th>\n",
       "    </tr>\n",
       "  </thead>\n",
       "  <tbody>\n",
       "    <tr>\n",
       "      <th>0</th>\n",
       "      <td>400</td>\n",
       "      <td>1000</td>\n",
       "      <td>412</td>\n",
       "      <td>0.412</td>\n",
       "      <td>27.556846</td>\n",
       "      <td>0.251</td>\n",
       "      <td>0.0</td>\n",
       "      <td>tidak kongesti</td>\n",
       "    </tr>\n",
       "    <tr>\n",
       "      <th>1</th>\n",
       "      <td>400</td>\n",
       "      <td>1000</td>\n",
       "      <td>400</td>\n",
       "      <td>0.400</td>\n",
       "      <td>28.819404</td>\n",
       "      <td>0.179</td>\n",
       "      <td>0.0</td>\n",
       "      <td>tidak kongesti</td>\n",
       "    </tr>\n",
       "    <tr>\n",
       "      <th>2</th>\n",
       "      <td>400</td>\n",
       "      <td>1000</td>\n",
       "      <td>400</td>\n",
       "      <td>0.400</td>\n",
       "      <td>29.531998</td>\n",
       "      <td>0.236</td>\n",
       "      <td>0.0</td>\n",
       "      <td>tidak kongesti</td>\n",
       "    </tr>\n",
       "    <tr>\n",
       "      <th>3</th>\n",
       "      <td>400</td>\n",
       "      <td>1000</td>\n",
       "      <td>400</td>\n",
       "      <td>0.400</td>\n",
       "      <td>29.201158</td>\n",
       "      <td>0.312</td>\n",
       "      <td>0.0</td>\n",
       "      <td>tidak kongesti</td>\n",
       "    </tr>\n",
       "    <tr>\n",
       "      <th>4</th>\n",
       "      <td>400</td>\n",
       "      <td>1000</td>\n",
       "      <td>400</td>\n",
       "      <td>0.400</td>\n",
       "      <td>30.066355</td>\n",
       "      <td>0.266</td>\n",
       "      <td>0.0</td>\n",
       "      <td>tidak kongesti</td>\n",
       "    </tr>\n",
       "    <tr>\n",
       "      <th>...</th>\n",
       "      <td>...</td>\n",
       "      <td>...</td>\n",
       "      <td>...</td>\n",
       "      <td>...</td>\n",
       "      <td>...</td>\n",
       "      <td>...</td>\n",
       "      <td>...</td>\n",
       "      <td>...</td>\n",
       "    </tr>\n",
       "    <tr>\n",
       "      <th>1795</th>\n",
       "      <td>2000</td>\n",
       "      <td>1000</td>\n",
       "      <td>976</td>\n",
       "      <td>0.976</td>\n",
       "      <td>12.102232</td>\n",
       "      <td>6.219</td>\n",
       "      <td>48.0</td>\n",
       "      <td>kongesti berat</td>\n",
       "    </tr>\n",
       "    <tr>\n",
       "      <th>1796</th>\n",
       "      <td>2000</td>\n",
       "      <td>1000</td>\n",
       "      <td>976</td>\n",
       "      <td>0.976</td>\n",
       "      <td>12.120599</td>\n",
       "      <td>6.214</td>\n",
       "      <td>48.0</td>\n",
       "      <td>kongesti berat</td>\n",
       "    </tr>\n",
       "    <tr>\n",
       "      <th>1797</th>\n",
       "      <td>2000</td>\n",
       "      <td>1000</td>\n",
       "      <td>964</td>\n",
       "      <td>0.964</td>\n",
       "      <td>12.063958</td>\n",
       "      <td>6.211</td>\n",
       "      <td>42.0</td>\n",
       "      <td>kongesti berat</td>\n",
       "    </tr>\n",
       "    <tr>\n",
       "      <th>1798</th>\n",
       "      <td>2000</td>\n",
       "      <td>1000</td>\n",
       "      <td>976</td>\n",
       "      <td>0.976</td>\n",
       "      <td>12.097341</td>\n",
       "      <td>6.221</td>\n",
       "      <td>48.0</td>\n",
       "      <td>kongesti berat</td>\n",
       "    </tr>\n",
       "    <tr>\n",
       "      <th>1799</th>\n",
       "      <td>2000</td>\n",
       "      <td>1000</td>\n",
       "      <td>976</td>\n",
       "      <td>0.976</td>\n",
       "      <td>12.096225</td>\n",
       "      <td>6.209</td>\n",
       "      <td>42.0</td>\n",
       "      <td>kongesti berat</td>\n",
       "    </tr>\n",
       "  </tbody>\n",
       "</table>\n",
       "<p>1800 rows × 8 columns</p>\n",
       "</div>"
      ],
      "text/plain": [
       "      Traffik  Bandwith  Throughput  Link Utilization      Delay  Jitter  \\\n",
       "0         400      1000         412             0.412  27.556846   0.251   \n",
       "1         400      1000         400             0.400  28.819404   0.179   \n",
       "2         400      1000         400             0.400  29.531998   0.236   \n",
       "3         400      1000         400             0.400  29.201158   0.312   \n",
       "4         400      1000         400             0.400  30.066355   0.266   \n",
       "...       ...       ...         ...               ...        ...     ...   \n",
       "1795     2000      1000         976             0.976  12.102232   6.219   \n",
       "1796     2000      1000         976             0.976  12.120599   6.214   \n",
       "1797     2000      1000         964             0.964  12.063958   6.211   \n",
       "1798     2000      1000         976             0.976  12.097341   6.221   \n",
       "1799     2000      1000         976             0.976  12.096225   6.209   \n",
       "\n",
       "      Packet Loss  Kongesti Label  \n",
       "0             0.0  tidak kongesti  \n",
       "1             0.0  tidak kongesti  \n",
       "2             0.0  tidak kongesti  \n",
       "3             0.0  tidak kongesti  \n",
       "4             0.0  tidak kongesti  \n",
       "...           ...             ...  \n",
       "1795         48.0  kongesti berat  \n",
       "1796         48.0  kongesti berat  \n",
       "1797         42.0  kongesti berat  \n",
       "1798         48.0  kongesti berat  \n",
       "1799         42.0  kongesti berat  \n",
       "\n",
       "[1800 rows x 8 columns]"
      ]
     },
     "execution_count": 9,
     "metadata": {},
     "output_type": "execute_result"
    }
   ],
   "source": [
    "data"
   ]
  },
  {
   "cell_type": "markdown",
   "metadata": {},
   "source": [
    "# Melihat korelasi antar parameter"
   ]
  },
  {
   "cell_type": "code",
   "execution_count": 6,
   "metadata": {},
   "outputs": [
    {
     "data": {
      "text/html": [
       "<div>\n",
       "<style scoped>\n",
       "    .dataframe tbody tr th:only-of-type {\n",
       "        vertical-align: middle;\n",
       "    }\n",
       "\n",
       "    .dataframe tbody tr th {\n",
       "        vertical-align: top;\n",
       "    }\n",
       "\n",
       "    .dataframe thead th {\n",
       "        text-align: right;\n",
       "    }\n",
       "</style>\n",
       "<table border=\"1\" class=\"dataframe\">\n",
       "  <thead>\n",
       "    <tr style=\"text-align: right;\">\n",
       "      <th></th>\n",
       "      <th>Traffik</th>\n",
       "      <th>Bandwith</th>\n",
       "      <th>Throughput</th>\n",
       "      <th>Link Utilization</th>\n",
       "      <th>Delay</th>\n",
       "      <th>Jitter</th>\n",
       "      <th>Packet Loss</th>\n",
       "    </tr>\n",
       "  </thead>\n",
       "  <tbody>\n",
       "    <tr>\n",
       "      <th>Traffik</th>\n",
       "      <td>1.000000</td>\n",
       "      <td>NaN</td>\n",
       "      <td>0.837532</td>\n",
       "      <td>0.837549</td>\n",
       "      <td>-0.780183</td>\n",
       "      <td>0.969754</td>\n",
       "      <td>0.952567</td>\n",
       "    </tr>\n",
       "    <tr>\n",
       "      <th>Bandwith</th>\n",
       "      <td>NaN</td>\n",
       "      <td>NaN</td>\n",
       "      <td>NaN</td>\n",
       "      <td>NaN</td>\n",
       "      <td>NaN</td>\n",
       "      <td>NaN</td>\n",
       "      <td>NaN</td>\n",
       "    </tr>\n",
       "    <tr>\n",
       "      <th>Throughput</th>\n",
       "      <td>0.837532</td>\n",
       "      <td>NaN</td>\n",
       "      <td>1.000000</td>\n",
       "      <td>0.999999</td>\n",
       "      <td>-0.987279</td>\n",
       "      <td>0.701274</td>\n",
       "      <td>0.641045</td>\n",
       "    </tr>\n",
       "    <tr>\n",
       "      <th>Link Utilization</th>\n",
       "      <td>0.837549</td>\n",
       "      <td>NaN</td>\n",
       "      <td>0.999999</td>\n",
       "      <td>1.000000</td>\n",
       "      <td>-0.987281</td>\n",
       "      <td>0.701293</td>\n",
       "      <td>0.641069</td>\n",
       "    </tr>\n",
       "    <tr>\n",
       "      <th>Delay</th>\n",
       "      <td>-0.780183</td>\n",
       "      <td>NaN</td>\n",
       "      <td>-0.987279</td>\n",
       "      <td>-0.987281</td>\n",
       "      <td>1.000000</td>\n",
       "      <td>-0.618885</td>\n",
       "      <td>-0.565642</td>\n",
       "    </tr>\n",
       "    <tr>\n",
       "      <th>Jitter</th>\n",
       "      <td>0.969754</td>\n",
       "      <td>NaN</td>\n",
       "      <td>0.701274</td>\n",
       "      <td>0.701293</td>\n",
       "      <td>-0.618885</td>\n",
       "      <td>1.000000</td>\n",
       "      <td>0.985852</td>\n",
       "    </tr>\n",
       "    <tr>\n",
       "      <th>Packet Loss</th>\n",
       "      <td>0.952567</td>\n",
       "      <td>NaN</td>\n",
       "      <td>0.641045</td>\n",
       "      <td>0.641069</td>\n",
       "      <td>-0.565642</td>\n",
       "      <td>0.985852</td>\n",
       "      <td>1.000000</td>\n",
       "    </tr>\n",
       "  </tbody>\n",
       "</table>\n",
       "</div>"
      ],
      "text/plain": [
       "                   Traffik  Bandwith  Throughput  Link Utilization     Delay  \\\n",
       "Traffik           1.000000       NaN    0.837532          0.837549 -0.780183   \n",
       "Bandwith               NaN       NaN         NaN               NaN       NaN   \n",
       "Throughput        0.837532       NaN    1.000000          0.999999 -0.987279   \n",
       "Link Utilization  0.837549       NaN    0.999999          1.000000 -0.987281   \n",
       "Delay            -0.780183       NaN   -0.987279         -0.987281  1.000000   \n",
       "Jitter            0.969754       NaN    0.701274          0.701293 -0.618885   \n",
       "Packet Loss       0.952567       NaN    0.641045          0.641069 -0.565642   \n",
       "\n",
       "                    Jitter  Packet Loss  \n",
       "Traffik           0.969754     0.952567  \n",
       "Bandwith               NaN          NaN  \n",
       "Throughput        0.701274     0.641045  \n",
       "Link Utilization  0.701293     0.641069  \n",
       "Delay            -0.618885    -0.565642  \n",
       "Jitter            1.000000     0.985852  \n",
       "Packet Loss       0.985852     1.000000  "
      ]
     },
     "execution_count": 6,
     "metadata": {},
     "output_type": "execute_result"
    }
   ],
   "source": [
    "data.corr()"
   ]
  },
  {
   "cell_type": "markdown",
   "metadata": {},
   "source": [
    "# Hapus yang tidak memiliki korelasi"
   ]
  },
  {
   "cell_type": "code",
   "execution_count": 10,
   "metadata": {},
   "outputs": [],
   "source": [
    "databaru = data.copy()\n",
    "del databaru['Bandwith']"
   ]
  },
  {
   "cell_type": "code",
   "execution_count": 11,
   "metadata": {},
   "outputs": [
    {
     "data": {
      "text/html": [
       "<div>\n",
       "<style scoped>\n",
       "    .dataframe tbody tr th:only-of-type {\n",
       "        vertical-align: middle;\n",
       "    }\n",
       "\n",
       "    .dataframe tbody tr th {\n",
       "        vertical-align: top;\n",
       "    }\n",
       "\n",
       "    .dataframe thead th {\n",
       "        text-align: right;\n",
       "    }\n",
       "</style>\n",
       "<table border=\"1\" class=\"dataframe\">\n",
       "  <thead>\n",
       "    <tr style=\"text-align: right;\">\n",
       "      <th></th>\n",
       "      <th>Traffik</th>\n",
       "      <th>Throughput</th>\n",
       "      <th>Link Utilization</th>\n",
       "      <th>Delay</th>\n",
       "      <th>Jitter</th>\n",
       "      <th>Packet Loss</th>\n",
       "      <th>Kongesti Label</th>\n",
       "    </tr>\n",
       "  </thead>\n",
       "  <tbody>\n",
       "    <tr>\n",
       "      <th>0</th>\n",
       "      <td>400</td>\n",
       "      <td>412</td>\n",
       "      <td>0.412</td>\n",
       "      <td>27.556846</td>\n",
       "      <td>0.251</td>\n",
       "      <td>0.0</td>\n",
       "      <td>tidak kongesti</td>\n",
       "    </tr>\n",
       "    <tr>\n",
       "      <th>1</th>\n",
       "      <td>400</td>\n",
       "      <td>400</td>\n",
       "      <td>0.400</td>\n",
       "      <td>28.819404</td>\n",
       "      <td>0.179</td>\n",
       "      <td>0.0</td>\n",
       "      <td>tidak kongesti</td>\n",
       "    </tr>\n",
       "    <tr>\n",
       "      <th>2</th>\n",
       "      <td>400</td>\n",
       "      <td>400</td>\n",
       "      <td>0.400</td>\n",
       "      <td>29.531998</td>\n",
       "      <td>0.236</td>\n",
       "      <td>0.0</td>\n",
       "      <td>tidak kongesti</td>\n",
       "    </tr>\n",
       "    <tr>\n",
       "      <th>3</th>\n",
       "      <td>400</td>\n",
       "      <td>400</td>\n",
       "      <td>0.400</td>\n",
       "      <td>29.201158</td>\n",
       "      <td>0.312</td>\n",
       "      <td>0.0</td>\n",
       "      <td>tidak kongesti</td>\n",
       "    </tr>\n",
       "    <tr>\n",
       "      <th>4</th>\n",
       "      <td>400</td>\n",
       "      <td>400</td>\n",
       "      <td>0.400</td>\n",
       "      <td>30.066355</td>\n",
       "      <td>0.266</td>\n",
       "      <td>0.0</td>\n",
       "      <td>tidak kongesti</td>\n",
       "    </tr>\n",
       "    <tr>\n",
       "      <th>...</th>\n",
       "      <td>...</td>\n",
       "      <td>...</td>\n",
       "      <td>...</td>\n",
       "      <td>...</td>\n",
       "      <td>...</td>\n",
       "      <td>...</td>\n",
       "      <td>...</td>\n",
       "    </tr>\n",
       "    <tr>\n",
       "      <th>1795</th>\n",
       "      <td>2000</td>\n",
       "      <td>976</td>\n",
       "      <td>0.976</td>\n",
       "      <td>12.102232</td>\n",
       "      <td>6.219</td>\n",
       "      <td>48.0</td>\n",
       "      <td>kongesti berat</td>\n",
       "    </tr>\n",
       "    <tr>\n",
       "      <th>1796</th>\n",
       "      <td>2000</td>\n",
       "      <td>976</td>\n",
       "      <td>0.976</td>\n",
       "      <td>12.120599</td>\n",
       "      <td>6.214</td>\n",
       "      <td>48.0</td>\n",
       "      <td>kongesti berat</td>\n",
       "    </tr>\n",
       "    <tr>\n",
       "      <th>1797</th>\n",
       "      <td>2000</td>\n",
       "      <td>964</td>\n",
       "      <td>0.964</td>\n",
       "      <td>12.063958</td>\n",
       "      <td>6.211</td>\n",
       "      <td>42.0</td>\n",
       "      <td>kongesti berat</td>\n",
       "    </tr>\n",
       "    <tr>\n",
       "      <th>1798</th>\n",
       "      <td>2000</td>\n",
       "      <td>976</td>\n",
       "      <td>0.976</td>\n",
       "      <td>12.097341</td>\n",
       "      <td>6.221</td>\n",
       "      <td>48.0</td>\n",
       "      <td>kongesti berat</td>\n",
       "    </tr>\n",
       "    <tr>\n",
       "      <th>1799</th>\n",
       "      <td>2000</td>\n",
       "      <td>976</td>\n",
       "      <td>0.976</td>\n",
       "      <td>12.096225</td>\n",
       "      <td>6.209</td>\n",
       "      <td>42.0</td>\n",
       "      <td>kongesti berat</td>\n",
       "    </tr>\n",
       "  </tbody>\n",
       "</table>\n",
       "<p>1800 rows × 7 columns</p>\n",
       "</div>"
      ],
      "text/plain": [
       "      Traffik  Throughput  Link Utilization      Delay  Jitter  Packet Loss  \\\n",
       "0         400         412             0.412  27.556846   0.251          0.0   \n",
       "1         400         400             0.400  28.819404   0.179          0.0   \n",
       "2         400         400             0.400  29.531998   0.236          0.0   \n",
       "3         400         400             0.400  29.201158   0.312          0.0   \n",
       "4         400         400             0.400  30.066355   0.266          0.0   \n",
       "...       ...         ...               ...        ...     ...          ...   \n",
       "1795     2000         976             0.976  12.102232   6.219         48.0   \n",
       "1796     2000         976             0.976  12.120599   6.214         48.0   \n",
       "1797     2000         964             0.964  12.063958   6.211         42.0   \n",
       "1798     2000         976             0.976  12.097341   6.221         48.0   \n",
       "1799     2000         976             0.976  12.096225   6.209         42.0   \n",
       "\n",
       "      Kongesti Label  \n",
       "0     tidak kongesti  \n",
       "1     tidak kongesti  \n",
       "2     tidak kongesti  \n",
       "3     tidak kongesti  \n",
       "4     tidak kongesti  \n",
       "...              ...  \n",
       "1795  kongesti berat  \n",
       "1796  kongesti berat  \n",
       "1797  kongesti berat  \n",
       "1798  kongesti berat  \n",
       "1799  kongesti berat  \n",
       "\n",
       "[1800 rows x 7 columns]"
      ]
     },
     "execution_count": 11,
     "metadata": {},
     "output_type": "execute_result"
    }
   ],
   "source": [
    "databaru"
   ]
  },
  {
   "cell_type": "markdown",
   "metadata": {},
   "source": [
    "# Membuat variabel y dan x"
   ]
  },
  {
   "cell_type": "code",
   "execution_count": 12,
   "metadata": {},
   "outputs": [],
   "source": [
    "y = databaru[['Kongesti Label']].copy()\n",
    "klasifikasi_kongesti = ['Traffik', 'Throughput', 'Link Utilization', 'Delay', 'Jitter', 'Packet Loss']\n",
    "x = databaru[klasifikasi_kongesti].copy()"
   ]
  },
  {
   "cell_type": "code",
   "execution_count": 13,
   "metadata": {},
   "outputs": [
    {
     "data": {
      "text/html": [
       "<div>\n",
       "<style scoped>\n",
       "    .dataframe tbody tr th:only-of-type {\n",
       "        vertical-align: middle;\n",
       "    }\n",
       "\n",
       "    .dataframe tbody tr th {\n",
       "        vertical-align: top;\n",
       "    }\n",
       "\n",
       "    .dataframe thead th {\n",
       "        text-align: right;\n",
       "    }\n",
       "</style>\n",
       "<table border=\"1\" class=\"dataframe\">\n",
       "  <thead>\n",
       "    <tr style=\"text-align: right;\">\n",
       "      <th></th>\n",
       "      <th>Kongesti Label</th>\n",
       "    </tr>\n",
       "  </thead>\n",
       "  <tbody>\n",
       "    <tr>\n",
       "      <th>0</th>\n",
       "      <td>tidak kongesti</td>\n",
       "    </tr>\n",
       "    <tr>\n",
       "      <th>1</th>\n",
       "      <td>tidak kongesti</td>\n",
       "    </tr>\n",
       "    <tr>\n",
       "      <th>2</th>\n",
       "      <td>tidak kongesti</td>\n",
       "    </tr>\n",
       "    <tr>\n",
       "      <th>3</th>\n",
       "      <td>tidak kongesti</td>\n",
       "    </tr>\n",
       "    <tr>\n",
       "      <th>4</th>\n",
       "      <td>tidak kongesti</td>\n",
       "    </tr>\n",
       "    <tr>\n",
       "      <th>...</th>\n",
       "      <td>...</td>\n",
       "    </tr>\n",
       "    <tr>\n",
       "      <th>1795</th>\n",
       "      <td>kongesti berat</td>\n",
       "    </tr>\n",
       "    <tr>\n",
       "      <th>1796</th>\n",
       "      <td>kongesti berat</td>\n",
       "    </tr>\n",
       "    <tr>\n",
       "      <th>1797</th>\n",
       "      <td>kongesti berat</td>\n",
       "    </tr>\n",
       "    <tr>\n",
       "      <th>1798</th>\n",
       "      <td>kongesti berat</td>\n",
       "    </tr>\n",
       "    <tr>\n",
       "      <th>1799</th>\n",
       "      <td>kongesti berat</td>\n",
       "    </tr>\n",
       "  </tbody>\n",
       "</table>\n",
       "<p>1800 rows × 1 columns</p>\n",
       "</div>"
      ],
      "text/plain": [
       "      Kongesti Label\n",
       "0     tidak kongesti\n",
       "1     tidak kongesti\n",
       "2     tidak kongesti\n",
       "3     tidak kongesti\n",
       "4     tidak kongesti\n",
       "...              ...\n",
       "1795  kongesti berat\n",
       "1796  kongesti berat\n",
       "1797  kongesti berat\n",
       "1798  kongesti berat\n",
       "1799  kongesti berat\n",
       "\n",
       "[1800 rows x 1 columns]"
      ]
     },
     "execution_count": 13,
     "metadata": {},
     "output_type": "execute_result"
    }
   ],
   "source": [
    "y"
   ]
  },
  {
   "cell_type": "code",
   "execution_count": 14,
   "metadata": {},
   "outputs": [
    {
     "data": {
      "text/html": [
       "<div>\n",
       "<style scoped>\n",
       "    .dataframe tbody tr th:only-of-type {\n",
       "        vertical-align: middle;\n",
       "    }\n",
       "\n",
       "    .dataframe tbody tr th {\n",
       "        vertical-align: top;\n",
       "    }\n",
       "\n",
       "    .dataframe thead th {\n",
       "        text-align: right;\n",
       "    }\n",
       "</style>\n",
       "<table border=\"1\" class=\"dataframe\">\n",
       "  <thead>\n",
       "    <tr style=\"text-align: right;\">\n",
       "      <th></th>\n",
       "      <th>Traffik</th>\n",
       "      <th>Throughput</th>\n",
       "      <th>Link Utilization</th>\n",
       "      <th>Delay</th>\n",
       "      <th>Jitter</th>\n",
       "      <th>Packet Loss</th>\n",
       "    </tr>\n",
       "  </thead>\n",
       "  <tbody>\n",
       "    <tr>\n",
       "      <th>0</th>\n",
       "      <td>400</td>\n",
       "      <td>412</td>\n",
       "      <td>0.412</td>\n",
       "      <td>27.556846</td>\n",
       "      <td>0.251</td>\n",
       "      <td>0.0</td>\n",
       "    </tr>\n",
       "    <tr>\n",
       "      <th>1</th>\n",
       "      <td>400</td>\n",
       "      <td>400</td>\n",
       "      <td>0.400</td>\n",
       "      <td>28.819404</td>\n",
       "      <td>0.179</td>\n",
       "      <td>0.0</td>\n",
       "    </tr>\n",
       "    <tr>\n",
       "      <th>2</th>\n",
       "      <td>400</td>\n",
       "      <td>400</td>\n",
       "      <td>0.400</td>\n",
       "      <td>29.531998</td>\n",
       "      <td>0.236</td>\n",
       "      <td>0.0</td>\n",
       "    </tr>\n",
       "    <tr>\n",
       "      <th>3</th>\n",
       "      <td>400</td>\n",
       "      <td>400</td>\n",
       "      <td>0.400</td>\n",
       "      <td>29.201158</td>\n",
       "      <td>0.312</td>\n",
       "      <td>0.0</td>\n",
       "    </tr>\n",
       "    <tr>\n",
       "      <th>4</th>\n",
       "      <td>400</td>\n",
       "      <td>400</td>\n",
       "      <td>0.400</td>\n",
       "      <td>30.066355</td>\n",
       "      <td>0.266</td>\n",
       "      <td>0.0</td>\n",
       "    </tr>\n",
       "    <tr>\n",
       "      <th>...</th>\n",
       "      <td>...</td>\n",
       "      <td>...</td>\n",
       "      <td>...</td>\n",
       "      <td>...</td>\n",
       "      <td>...</td>\n",
       "      <td>...</td>\n",
       "    </tr>\n",
       "    <tr>\n",
       "      <th>1795</th>\n",
       "      <td>2000</td>\n",
       "      <td>976</td>\n",
       "      <td>0.976</td>\n",
       "      <td>12.102232</td>\n",
       "      <td>6.219</td>\n",
       "      <td>48.0</td>\n",
       "    </tr>\n",
       "    <tr>\n",
       "      <th>1796</th>\n",
       "      <td>2000</td>\n",
       "      <td>976</td>\n",
       "      <td>0.976</td>\n",
       "      <td>12.120599</td>\n",
       "      <td>6.214</td>\n",
       "      <td>48.0</td>\n",
       "    </tr>\n",
       "    <tr>\n",
       "      <th>1797</th>\n",
       "      <td>2000</td>\n",
       "      <td>964</td>\n",
       "      <td>0.964</td>\n",
       "      <td>12.063958</td>\n",
       "      <td>6.211</td>\n",
       "      <td>42.0</td>\n",
       "    </tr>\n",
       "    <tr>\n",
       "      <th>1798</th>\n",
       "      <td>2000</td>\n",
       "      <td>976</td>\n",
       "      <td>0.976</td>\n",
       "      <td>12.097341</td>\n",
       "      <td>6.221</td>\n",
       "      <td>48.0</td>\n",
       "    </tr>\n",
       "    <tr>\n",
       "      <th>1799</th>\n",
       "      <td>2000</td>\n",
       "      <td>976</td>\n",
       "      <td>0.976</td>\n",
       "      <td>12.096225</td>\n",
       "      <td>6.209</td>\n",
       "      <td>42.0</td>\n",
       "    </tr>\n",
       "  </tbody>\n",
       "</table>\n",
       "<p>1800 rows × 6 columns</p>\n",
       "</div>"
      ],
      "text/plain": [
       "      Traffik  Throughput  Link Utilization      Delay  Jitter  Packet Loss\n",
       "0         400         412             0.412  27.556846   0.251          0.0\n",
       "1         400         400             0.400  28.819404   0.179          0.0\n",
       "2         400         400             0.400  29.531998   0.236          0.0\n",
       "3         400         400             0.400  29.201158   0.312          0.0\n",
       "4         400         400             0.400  30.066355   0.266          0.0\n",
       "...       ...         ...               ...        ...     ...          ...\n",
       "1795     2000         976             0.976  12.102232   6.219         48.0\n",
       "1796     2000         976             0.976  12.120599   6.214         48.0\n",
       "1797     2000         964             0.964  12.063958   6.211         42.0\n",
       "1798     2000         976             0.976  12.097341   6.221         48.0\n",
       "1799     2000         976             0.976  12.096225   6.209         42.0\n",
       "\n",
       "[1800 rows x 6 columns]"
      ]
     },
     "execution_count": 14,
     "metadata": {},
     "output_type": "execute_result"
    }
   ],
   "source": [
    "x"
   ]
  },
  {
   "cell_type": "markdown",
   "metadata": {},
   "source": [
    "# Membuat Datatest dan Datatrain"
   ]
  },
  {
   "cell_type": "code",
   "execution_count": 15,
   "metadata": {},
   "outputs": [],
   "source": [
    "x_train, x_test, y_train, y_test = train_test_split(x, y, test_size=0.3, random_state=10)"
   ]
  },
  {
   "cell_type": "markdown",
   "metadata": {},
   "source": [
    "# Membuat mesin klasifikasi kongesti"
   ]
  },
  {
   "cell_type": "code",
   "execution_count": 16,
   "metadata": {},
   "outputs": [
    {
     "data": {
      "text/plain": [
       "DecisionTreeClassifier(criterion='entropy', max_leaf_nodes=10, random_state=10)"
      ]
     },
     "execution_count": 16,
     "metadata": {},
     "output_type": "execute_result"
    }
   ],
   "source": [
    "kongesti_classifier = DecisionTreeClassifier(criterion='entropy',max_leaf_nodes=10, random_state=10)\n",
    "kongesti_classifier.fit(x_train, y_train)"
   ]
  },
  {
   "cell_type": "markdown",
   "metadata": {},
   "source": [
    "# Membuat fungsi prediksi"
   ]
  },
  {
   "cell_type": "code",
   "execution_count": 17,
   "metadata": {},
   "outputs": [],
   "source": [
    "predictions = kongesti_classifier.predict(x_test)"
   ]
  },
  {
   "cell_type": "markdown",
   "metadata": {},
   "source": [
    "# Membandingkan Hasil Test dan Train"
   ]
  },
  {
   "cell_type": "code",
   "execution_count": 18,
   "metadata": {},
   "outputs": [
    {
     "data": {
      "text/plain": [
       "array(['kongesti berat', 'kongesti berat', 'tidak kongesti',\n",
       "       'kongesti berat', 'kongesti berat', 'kongesti berat',\n",
       "       'kongesti berat', 'kongesti', 'tidak kongesti', 'kongesti berat'],\n",
       "      dtype=object)"
      ]
     },
     "execution_count": 18,
     "metadata": {},
     "output_type": "execute_result"
    }
   ],
   "source": [
    "predictions[:10]"
   ]
  },
  {
   "cell_type": "code",
   "execution_count": 19,
   "metadata": {
    "scrolled": true
   },
   "outputs": [
    {
     "data": {
      "text/plain": [
       "764     kongesti berat\n",
       "278     kongesti berat\n",
       "1538    tidak kongesti\n",
       "1780    kongesti berat\n",
       "123     kongesti berat\n",
       "1621    kongesti berat\n",
       "270     kongesti berat\n",
       "1562          kongesti\n",
       "962     tidak kongesti\n",
       "130     kongesti berat\n",
       "Name: Kongesti Label, dtype: object"
      ]
     },
     "execution_count": 19,
     "metadata": {},
     "output_type": "execute_result"
    }
   ],
   "source": [
    "y_test['Kongesti Label'][:10]"
   ]
  },
  {
   "cell_type": "markdown",
   "metadata": {},
   "source": [
    "# Melihat Tingkat Akurasi Data"
   ]
  },
  {
   "cell_type": "code",
   "execution_count": 20,
   "metadata": {},
   "outputs": [
    {
     "data": {
      "text/plain": [
       "0.9981481481481481"
      ]
     },
     "execution_count": 20,
     "metadata": {},
     "output_type": "execute_result"
    }
   ],
   "source": [
    "accuracy_score(y_true = y_test, y_pred = predictions)"
   ]
  },
  {
   "cell_type": "code",
   "execution_count": 21,
   "metadata": {},
   "outputs": [
    {
     "data": {
      "text/plain": [
       "array([1.        , 1.        , 0.99502488])"
      ]
     },
     "execution_count": 21,
     "metadata": {},
     "output_type": "execute_result"
    }
   ],
   "source": [
    "recall_score(y_true = y_test, y_pred = predictions, average = None)"
   ]
  },
  {
   "cell_type": "code",
   "execution_count": 22,
   "metadata": {},
   "outputs": [
    {
     "data": {
      "text/plain": [
       "array([1.        , 0.99690402, 1.        ])"
      ]
     },
     "execution_count": 22,
     "metadata": {},
     "output_type": "execute_result"
    }
   ],
   "source": [
    "precision_score(y_true = y_test, y_pred = predictions, average = None)"
   ]
  },
  {
   "cell_type": "code",
   "execution_count": 23,
   "metadata": {},
   "outputs": [
    {
     "data": {
      "text/plain": [
       "array([1.        , 0.99844961, 0.99750623])"
      ]
     },
     "execution_count": 23,
     "metadata": {},
     "output_type": "execute_result"
    }
   ],
   "source": [
    "f1_score(y_true = y_test, y_pred = predictions, average = None)"
   ]
  },
  {
   "cell_type": "markdown",
   "metadata": {},
   "source": [
    "# Melihat Korelasi antar parameter yang sudah di klasifikasi"
   ]
  },
  {
   "cell_type": "code",
   "execution_count": 46,
   "metadata": {},
   "outputs": [
    {
     "data": {
      "text/plain": [
       "array([0.        , 0.83290511, 0.15473889, 0.00820698, 0.00414902,\n",
       "       0.        ])"
      ]
     },
     "execution_count": 46,
     "metadata": {},
     "output_type": "execute_result"
    }
   ],
   "source": [
    "kongesti_classifier.feature_importances_"
   ]
  },
  {
   "cell_type": "markdown",
   "metadata": {},
   "source": [
    "# Visualisasi Model"
   ]
  },
  {
   "cell_type": "code",
   "execution_count": 26,
   "metadata": {},
   "outputs": [
    {
     "data": {
      "text/plain": [
       "[Text(152.1818181818182, 199.32, 'X[1] <= 888.0\\nentropy = 1.155\\nsamples = 1260\\nvalue = [46, 1, 756, 457]'),\n",
       " Text(60.872727272727275, 163.07999999999998, 'X[2] <= 0.806\\nentropy = 0.462\\nsamples = 503\\nvalue = [46, 1, 0, 456]'),\n",
       " Text(30.436363636363637, 126.83999999999999, 'entropy = 0.0\\nsamples = 456\\nvalue = [0, 0, 0, 456]'),\n",
       " Text(91.30909090909091, 126.83999999999999, 'X[3] <= 15.131\\nentropy = 0.149\\nsamples = 47\\nvalue = [46, 1, 0, 0]'),\n",
       " Text(60.872727272727275, 90.6, 'entropy = 0.0\\nsamples = 42\\nvalue = [42, 0, 0, 0]'),\n",
       " Text(121.74545454545455, 90.6, 'X[3] <= 15.165\\nentropy = 0.722\\nsamples = 5\\nvalue = [4, 1, 0, 0]'),\n",
       " Text(91.30909090909091, 54.359999999999985, 'entropy = 0.0\\nsamples = 1\\nvalue = [0, 1, 0, 0]'),\n",
       " Text(152.1818181818182, 54.359999999999985, 'entropy = 0.0\\nsamples = 4\\nvalue = [4, 0, 0, 0]'),\n",
       " Text(243.4909090909091, 163.07999999999998, 'X[4] <= 2.303\\nentropy = 0.015\\nsamples = 757\\nvalue = [0, 0, 756, 1]'),\n",
       " Text(213.05454545454546, 126.83999999999999, 'X[4] <= 2.302\\nentropy = 0.065\\nsamples = 130\\nvalue = [0, 0, 129, 1]'),\n",
       " Text(182.61818181818182, 90.6, 'entropy = 0.0\\nsamples = 118\\nvalue = [0, 0, 118, 0]'),\n",
       " Text(243.4909090909091, 90.6, 'X[3] <= 12.098\\nentropy = 0.414\\nsamples = 12\\nvalue = [0, 0, 11, 1]'),\n",
       " Text(213.05454545454546, 54.359999999999985, 'entropy = 0.0\\nsamples = 9\\nvalue = [0, 0, 9, 0]'),\n",
       " Text(273.92727272727274, 54.359999999999985, 'X[3] <= 12.168\\nentropy = 0.918\\nsamples = 3\\nvalue = [0, 0, 2, 1]'),\n",
       " Text(243.4909090909091, 18.119999999999976, 'entropy = 0.0\\nsamples = 1\\nvalue = [0, 0, 0, 1]'),\n",
       " Text(304.3636363636364, 18.119999999999976, 'entropy = 0.0\\nsamples = 2\\nvalue = [0, 0, 2, 0]'),\n",
       " Text(273.92727272727274, 126.83999999999999, 'entropy = 0.0\\nsamples = 627\\nvalue = [0, 0, 627, 0]')]"
      ]
     },
     "execution_count": 26,
     "metadata": {},
     "output_type": "execute_result"
    },
    {
     "data": {
      "image/png": "[encoded data removed]",
      "text/plain": [
       "<Figure size 432x288 with 1 Axes>"
      ]
     },
     "metadata": {
      "needs_background": "light"
     },
     "output_type": "display_data"
    }
   ],
   "source": [
    "tree.plot_tree(kongesti_classifier)"
   ]
  },
  {
   "cell_type": "code",
   "execution_count": 47,
   "metadata": {},
   "outputs": [
    {
     "data": {
      "text/plain": [
       "[Text(422.72727272727275, 830.5, 'Throughput <= 888.0\\nentropy = 1.155\\nsamples = 1260\\nvalue = [46, 1, 756, 457]'),\n",
       " Text(169.0909090909091, 679.5, 'Link Utilization <= 0.806\\nentropy = 0.462\\nsamples = 503\\nvalue = [46, 1, 0, 456]'),\n",
       " Text(84.54545454545455, 528.5, 'entropy = 0.0\\nsamples = 456\\nvalue = [0, 0, 0, 456]'),\n",
       " Text(253.63636363636363, 528.5, 'Delay <= 15.131\\nentropy = 0.149\\nsamples = 47\\nvalue = [46, 1, 0, 0]'),\n",
       " Text(169.0909090909091, 377.5, 'entropy = 0.0\\nsamples = 42\\nvalue = [42, 0, 0, 0]'),\n",
       " Text(338.1818181818182, 377.5, 'Delay <= 15.165\\nentropy = 0.722\\nsamples = 5\\nvalue = [4, 1, 0, 0]'),\n",
       " Text(253.63636363636363, 226.5, 'entropy = 0.0\\nsamples = 1\\nvalue = [0, 1, 0, 0]'),\n",
       " Text(422.72727272727275, 226.5, 'entropy = 0.0\\nsamples = 4\\nvalue = [4, 0, 0, 0]'),\n",
       " Text(676.3636363636364, 679.5, 'Jitter <= 2.303\\nentropy = 0.015\\nsamples = 757\\nvalue = [0, 0, 756, 1]'),\n",
       " Text(591.8181818181819, 528.5, 'Jitter <= 2.302\\nentropy = 0.065\\nsamples = 130\\nvalue = [0, 0, 129, 1]'),\n",
       " Text(507.27272727272725, 377.5, 'entropy = 0.0\\nsamples = 118\\nvalue = [0, 0, 118, 0]'),\n",
       " Text(676.3636363636364, 377.5, 'Delay <= 12.098\\nentropy = 0.414\\nsamples = 12\\nvalue = [0, 0, 11, 1]'),\n",
       " Text(591.8181818181819, 226.5, 'entropy = 0.0\\nsamples = 9\\nvalue = [0, 0, 9, 0]'),\n",
       " Text(760.9090909090909, 226.5, 'Delay <= 12.168\\nentropy = 0.918\\nsamples = 3\\nvalue = [0, 0, 2, 1]'),\n",
       " Text(676.3636363636364, 75.5, 'entropy = 0.0\\nsamples = 1\\nvalue = [0, 0, 0, 1]'),\n",
       " Text(845.4545454545455, 75.5, 'entropy = 0.0\\nsamples = 2\\nvalue = [0, 0, 2, 0]'),\n",
       " Text(760.9090909090909, 528.5, 'entropy = 0.0\\nsamples = 627\\nvalue = [0, 0, 627, 0]')]"
      ]
     },
     "execution_count": 47,
     "metadata": {},
     "output_type": "execute_result"
    },
    {
     "data": {
      "image/png": "[encoded data removed]",
      "text/plain": [
       "<Figure size 1200x1200 with 1 Axes>"
      ]
     },
     "metadata": {
      "needs_background": "light"
     },
     "output_type": "display_data"
    }
   ],
   "source": [
    "parameter = ['Traffik', 'Throughput', 'Link Utilization', 'Delay', 'Jitter', 'Packet Loss']\n",
    "fig, axes = plt.subplots(nrows = 1,ncols = 1,figsize = (4,4), dpi=300)\n",
    "tree.plot_tree(kongesti_classifier, feature_names = parameter, filled = True,  rounded=True)"
   ]
  },
  {
   "cell_type": "code",
   "execution_count": 48,
   "metadata": {},
   "outputs": [
    {
     "ename": "IndexError",
     "evalue": "list index out of range",
     "output_type": "error",
     "traceback": [
      "\u001b[0;31m---------------------------------------------------------------------------\u001b[0m",
      "\u001b[0;31mIndexError\u001b[0m                                Traceback (most recent call last)",
      "\u001b[0;32m<ipython-input-48-19c4f3030ab7>\u001b[0m in \u001b[0;36m<module>\u001b[0;34m\u001b[0m\n\u001b[1;32m      2\u001b[0m \u001b[0mlabel\u001b[0m \u001b[0;34m=\u001b[0m \u001b[0;34m[\u001b[0m\u001b[0;34m'tidak kongesti'\u001b[0m\u001b[0;34m,\u001b[0m \u001b[0;34m'kongesti'\u001b[0m\u001b[0;34m,\u001b[0m \u001b[0;34m'kongesti berat'\u001b[0m\u001b[0;34m]\u001b[0m\u001b[0;34m\u001b[0m\u001b[0;34m\u001b[0m\u001b[0m\n\u001b[1;32m      3\u001b[0m \u001b[0mfig\u001b[0m\u001b[0;34m,\u001b[0m \u001b[0maxes\u001b[0m \u001b[0;34m=\u001b[0m \u001b[0mplt\u001b[0m\u001b[0;34m.\u001b[0m\u001b[0msubplots\u001b[0m\u001b[0;34m(\u001b[0m\u001b[0mnrows\u001b[0m \u001b[0;34m=\u001b[0m \u001b[0;36m1\u001b[0m\u001b[0;34m,\u001b[0m\u001b[0mncols\u001b[0m \u001b[0;34m=\u001b[0m \u001b[0;36m1\u001b[0m\u001b[0;34m,\u001b[0m\u001b[0mfigsize\u001b[0m \u001b[0;34m=\u001b[0m \u001b[0;34m(\u001b[0m\u001b[0;36m4\u001b[0m\u001b[0;34m,\u001b[0m\u001b[0;36m4\u001b[0m\u001b[0;34m)\u001b[0m\u001b[0;34m,\u001b[0m \u001b[0mdpi\u001b[0m\u001b[0;34m=\u001b[0m\u001b[0;36m300\u001b[0m\u001b[0;34m)\u001b[0m\u001b[0;34m\u001b[0m\u001b[0;34m\u001b[0m\u001b[0m\n\u001b[0;32m----> 4\u001b[0;31m \u001b[0mtree\u001b[0m\u001b[0;34m.\u001b[0m\u001b[0mplot_tree\u001b[0m\u001b[0;34m(\u001b[0m\u001b[0mkongesti_classifier\u001b[0m\u001b[0;34m,\u001b[0m \u001b[0mfeature_names\u001b[0m \u001b[0;34m=\u001b[0m \u001b[0mparameter\u001b[0m\u001b[0;34m,\u001b[0m \u001b[0mclass_names\u001b[0m\u001b[0;34m=\u001b[0m\u001b[0mlabel\u001b[0m\u001b[0;34m,\u001b[0m \u001b[0mfilled\u001b[0m \u001b[0;34m=\u001b[0m \u001b[0;32mTrue\u001b[0m\u001b[0;34m,\u001b[0m  \u001b[0mrounded\u001b[0m\u001b[0;34m=\u001b[0m\u001b[0;32mTrue\u001b[0m\u001b[0;34m)\u001b[0m\u001b[0;34m\u001b[0m\u001b[0;34m\u001b[0m\u001b[0m\n\u001b[0m",
      "\u001b[0;32m~/.local/lib/python3.6/site-packages/sklearn/utils/validation.py\u001b[0m in \u001b[0;36minner_f\u001b[0;34m(*args, **kwargs)\u001b[0m\n\u001b[1;32m     70\u001b[0m                           FutureWarning)\n\u001b[1;32m     71\u001b[0m         \u001b[0mkwargs\u001b[0m\u001b[0;34m.\u001b[0m\u001b[0mupdate\u001b[0m\u001b[0;34m(\u001b[0m\u001b[0;34m{\u001b[0m\u001b[0mk\u001b[0m\u001b[0;34m:\u001b[0m \u001b[0marg\u001b[0m \u001b[0;32mfor\u001b[0m \u001b[0mk\u001b[0m\u001b[0;34m,\u001b[0m \u001b[0marg\u001b[0m \u001b[0;32min\u001b[0m \u001b[0mzip\u001b[0m\u001b[0;34m(\u001b[0m\u001b[0msig\u001b[0m\u001b[0;34m.\u001b[0m\u001b[0mparameters\u001b[0m\u001b[0;34m,\u001b[0m \u001b[0margs\u001b[0m\u001b[0;34m)\u001b[0m\u001b[0;34m}\u001b[0m\u001b[0;34m)\u001b[0m\u001b[0;34m\u001b[0m\u001b[0;34m\u001b[0m\u001b[0m\n\u001b[0;32m---> 72\u001b[0;31m         \u001b[0;32mreturn\u001b[0m \u001b[0mf\u001b[0m\u001b[0;34m(\u001b[0m\u001b[0;34m**\u001b[0m\u001b[0mkwargs\u001b[0m\u001b[0;34m)\u001b[0m\u001b[0;34m\u001b[0m\u001b[0;34m\u001b[0m\u001b[0m\n\u001b[0m\u001b[1;32m     73\u001b[0m     \u001b[0;32mreturn\u001b[0m \u001b[0minner_f\u001b[0m\u001b[0;34m\u001b[0m\u001b[0;34m\u001b[0m\u001b[0m\n\u001b[1;32m     74\u001b[0m \u001b[0;34m\u001b[0m\u001b[0m\n",
      "\u001b[0;32m~/.local/lib/python3.6/site-packages/sklearn/tree/_export.py\u001b[0m in \u001b[0;36mplot_tree\u001b[0;34m(decision_tree, max_depth, feature_names, class_names, label, filled, impurity, node_ids, proportion, rotate, rounded, precision, ax, fontsize)\u001b[0m\n\u001b[1;32m    191\u001b[0m         \u001b[0mproportion\u001b[0m\u001b[0;34m=\u001b[0m\u001b[0mproportion\u001b[0m\u001b[0;34m,\u001b[0m \u001b[0mrotate\u001b[0m\u001b[0;34m=\u001b[0m\u001b[0mrotate\u001b[0m\u001b[0;34m,\u001b[0m \u001b[0mrounded\u001b[0m\u001b[0;34m=\u001b[0m\u001b[0mrounded\u001b[0m\u001b[0;34m,\u001b[0m\u001b[0;34m\u001b[0m\u001b[0;34m\u001b[0m\u001b[0m\n\u001b[1;32m    192\u001b[0m         precision=precision, fontsize=fontsize)\n\u001b[0;32m--> 193\u001b[0;31m     \u001b[0;32mreturn\u001b[0m \u001b[0mexporter\u001b[0m\u001b[0;34m.\u001b[0m\u001b[0mexport\u001b[0m\u001b[0;34m(\u001b[0m\u001b[0mdecision_tree\u001b[0m\u001b[0;34m,\u001b[0m \u001b[0max\u001b[0m\u001b[0;34m=\u001b[0m\u001b[0max\u001b[0m\u001b[0;34m)\u001b[0m\u001b[0;34m\u001b[0m\u001b[0;34m\u001b[0m\u001b[0m\n\u001b[0m\u001b[1;32m    194\u001b[0m \u001b[0;34m\u001b[0m\u001b[0m\n\u001b[1;32m    195\u001b[0m \u001b[0;34m\u001b[0m\u001b[0m\n",
      "\u001b[0;32m~/.local/lib/python3.6/site-packages/sklearn/tree/_export.py\u001b[0m in \u001b[0;36mexport\u001b[0;34m(self, decision_tree, ax)\u001b[0m\n\u001b[1;32m    583\u001b[0m         \u001b[0max\u001b[0m\u001b[0;34m.\u001b[0m\u001b[0mset_axis_off\u001b[0m\u001b[0;34m(\u001b[0m\u001b[0;34m)\u001b[0m\u001b[0;34m\u001b[0m\u001b[0;34m\u001b[0m\u001b[0m\n\u001b[1;32m    584\u001b[0m         my_tree = self._make_tree(0, decision_tree.tree_,\n\u001b[0;32m--> 585\u001b[0;31m                                   decision_tree.criterion)\n\u001b[0m\u001b[1;32m    586\u001b[0m         \u001b[0mdraw_tree\u001b[0m \u001b[0;34m=\u001b[0m \u001b[0mbuchheim\u001b[0m\u001b[0;34m(\u001b[0m\u001b[0mmy_tree\u001b[0m\u001b[0;34m)\u001b[0m\u001b[0;34m\u001b[0m\u001b[0;34m\u001b[0m\u001b[0m\n\u001b[1;32m    587\u001b[0m \u001b[0;34m\u001b[0m\u001b[0m\n",
      "\u001b[0;32m~/.local/lib/python3.6/site-packages/sklearn/tree/_export.py\u001b[0m in \u001b[0;36m_make_tree\u001b[0;34m(self, node_id, et, criterion, depth)\u001b[0m\n\u001b[1;32m    567\u001b[0m                 and (self.max_depth is None or depth <= self.max_depth)):\n\u001b[1;32m    568\u001b[0m             children = [self._make_tree(et.children_left[node_id], et,\n\u001b[0;32m--> 569\u001b[0;31m                                         criterion, depth=depth + 1),\n\u001b[0m\u001b[1;32m    570\u001b[0m                         self._make_tree(et.children_right[node_id], et,\n\u001b[1;32m    571\u001b[0m                                         criterion, depth=depth + 1)]\n",
      "\u001b[0;32m~/.local/lib/python3.6/site-packages/sklearn/tree/_export.py\u001b[0m in \u001b[0;36m_make_tree\u001b[0;34m(self, node_id, et, criterion, depth)\u001b[0m\n\u001b[1;32m    563\u001b[0m         \u001b[0;31m# traverses _tree.Tree recursively, builds intermediate\u001b[0m\u001b[0;34m\u001b[0m\u001b[0;34m\u001b[0m\u001b[0;34m\u001b[0m\u001b[0m\n\u001b[1;32m    564\u001b[0m         \u001b[0;31m# \"_reingold_tilford.Tree\" object\u001b[0m\u001b[0;34m\u001b[0m\u001b[0;34m\u001b[0m\u001b[0;34m\u001b[0m\u001b[0m\n\u001b[0;32m--> 565\u001b[0;31m         \u001b[0mname\u001b[0m \u001b[0;34m=\u001b[0m \u001b[0mself\u001b[0m\u001b[0;34m.\u001b[0m\u001b[0mnode_to_str\u001b[0m\u001b[0;34m(\u001b[0m\u001b[0met\u001b[0m\u001b[0;34m,\u001b[0m \u001b[0mnode_id\u001b[0m\u001b[0;34m,\u001b[0m \u001b[0mcriterion\u001b[0m\u001b[0;34m=\u001b[0m\u001b[0mcriterion\u001b[0m\u001b[0;34m)\u001b[0m\u001b[0;34m\u001b[0m\u001b[0;34m\u001b[0m\u001b[0m\n\u001b[0m\u001b[1;32m    566\u001b[0m         if (et.children_left[node_id] != _tree.TREE_LEAF\n\u001b[1;32m    567\u001b[0m                 and (self.max_depth is None or depth <= self.max_depth)):\n",
      "\u001b[0;32m~/.local/lib/python3.6/site-packages/sklearn/tree/_export.py\u001b[0m in \u001b[0;36mnode_to_str\u001b[0;34m(self, tree, node_id, criterion)\u001b[0m\n\u001b[1;32m    352\u001b[0m                 \u001b[0mnode_string\u001b[0m \u001b[0;34m+=\u001b[0m \u001b[0;34m'class = '\u001b[0m\u001b[0;34m\u001b[0m\u001b[0;34m\u001b[0m\u001b[0m\n\u001b[1;32m    353\u001b[0m             \u001b[0;32mif\u001b[0m \u001b[0mself\u001b[0m\u001b[0;34m.\u001b[0m\u001b[0mclass_names\u001b[0m \u001b[0;32mis\u001b[0m \u001b[0;32mnot\u001b[0m \u001b[0;32mTrue\u001b[0m\u001b[0;34m:\u001b[0m\u001b[0;34m\u001b[0m\u001b[0;34m\u001b[0m\u001b[0m\n\u001b[0;32m--> 354\u001b[0;31m                 \u001b[0mclass_name\u001b[0m \u001b[0;34m=\u001b[0m \u001b[0mself\u001b[0m\u001b[0;34m.\u001b[0m\u001b[0mclass_names\u001b[0m\u001b[0;34m[\u001b[0m\u001b[0mnp\u001b[0m\u001b[0;34m.\u001b[0m\u001b[0margmax\u001b[0m\u001b[0;34m(\u001b[0m\u001b[0mvalue\u001b[0m\u001b[0;34m)\u001b[0m\u001b[0;34m]\u001b[0m\u001b[0;34m\u001b[0m\u001b[0;34m\u001b[0m\u001b[0m\n\u001b[0m\u001b[1;32m    355\u001b[0m             \u001b[0;32melse\u001b[0m\u001b[0;34m:\u001b[0m\u001b[0;34m\u001b[0m\u001b[0;34m\u001b[0m\u001b[0m\n\u001b[1;32m    356\u001b[0m                 class_name = \"y%s%s%s\" % (characters[1],\n",
      "\u001b[0;31mIndexError\u001b[0m: list index out of range"
     ]
    },
    {
     "data": {
      "image/png": "[encoded data removed]",
      "text/plain": [
       "<Figure size 1200x1200 with 1 Axes>"
      ]
     },
     "metadata": {
      "needs_background": "light"
     },
     "output_type": "display_data"
    }
   ],
   "source": [
    "parameter = ['Traffik', 'Throughput', 'Link Utilization', 'Delay', 'Jitter', 'Packet Loss']\n",
    "label = ['tidak kongesti', 'kongesti', 'kongesti berat']\n",
    "fig, axes = plt.subplots(nrows = 1,ncols = 1,figsize = (4,4), dpi=300)\n",
    "tree.plot_tree(kongesti_classifier, feature_names = parameter, class_names=label, filled = True,  rounded=True)"
   ]
  },
  {
   "cell_type": "code",
   "execution_count": null,
   "metadata": {},
   "outputs": [],
   "source": []
  }
 ],
 "metadata": {
  "kernelspec": {
   "display_name": "Python 3",
   "language": "python",
   "name": "python3"
  },
  "language_info": {
   "codemirror_mode": {
    "name": "ipython",
    "version": 3
   },
   "file_extension": ".py",
   "mimetype": "text/x-python",
   "name": "python",
   "nbconvert_exporter": "python",
   "pygments_lexer": "ipython3",
   "version": "3.6.9"
  }
 },
 "nbformat": 4,
 "nbformat_minor": 4
}
